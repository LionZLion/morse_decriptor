{
 "cells": [
  {
   "cell_type": "code",
   "execution_count": 1,
   "id": "595188d3",
   "metadata": {},
   "outputs": [],
   "source": [
    "import pandas as pd\n",
    "import numpy as np\n",
    "\n",
    "import matplotlib.pyplot as plt\n",
    "from sklearn.model_selection import train_test_split\n",
    "from collections import Counter\n",
    "import torch.nn as nn\n",
    "import torch.optim as optim\n",
    "import torch.utils.data as data\n",
    "import torch\n",
    "import json\n",
    "import copy\n",
    "import os\n",
    "\n",
    "from tqdm import tqdm\n",
    "tqdm.pandas()"
   ]
  },
  {
   "cell_type": "code",
   "execution_count": 2,
   "id": "c818c376",
   "metadata": {},
   "outputs": [
    {
     "data": {
      "text/plain": [
       "device(type='cpu')"
      ]
     },
     "execution_count": 2,
     "metadata": {},
     "output_type": "execute_result"
    }
   ],
   "source": [
    "device = torch.device(\"cuda\" if torch.cuda.is_available() else \"cpu\")\n",
    "device"
   ]
  },
  {
   "cell_type": "markdown",
   "id": "78fd57a6",
   "metadata": {},
   "source": [
    "# Создание буквенного датасета"
   ]
  },
  {
   "cell_type": "code",
   "execution_count": 3,
   "id": "1cfae779",
   "metadata": {},
   "outputs": [],
   "source": [
    "from morse_dataset.morse_dataset import dataset_create\n",
    "\n",
    "dataset_create(size=10)"
   ]
  },
  {
   "cell_type": "markdown",
   "id": "cdbe31a6",
   "metadata": {},
   "source": [
    "# Создание и обработка сигнала"
   ]
  },
  {
   "cell_type": "code",
   "execution_count": 4,
   "id": "8d02c301",
   "metadata": {},
   "outputs": [],
   "source": [
    "train_df = pd.read_csv('morse_dataset.csv')"
   ]
  },
  {
   "cell_type": "code",
   "execution_count": 5,
   "id": "8b47eedf",
   "metadata": {},
   "outputs": [
    {
     "data": {
      "text/plain": [
       "<BarContainer object of 45 artists>"
      ]
     },
     "execution_count": 5,
     "metadata": {},
     "output_type": "execute_result"
    },
    {
     "data": {
      "image/png": "[encoded data removed]",
      "text/plain": [
       "<Figure size 1000x500 with 1 Axes>"
      ]
     },
     "metadata": {},
     "output_type": "display_data"
    }
   ],
   "source": [
    "count_char = Counter()\n",
    "\n",
    "for mess in train_df['message']:\n",
    "    count_char.update(mess)\n",
    "\n",
    "fig, ax = plt.subplots(figsize=(10,5))\n",
    "ax.bar(count_char.keys(), count_char.values())  "
   ]
  },
  {
   "cell_type": "code",
   "execution_count": 6,
   "id": "08012051",
   "metadata": {},
   "outputs": [],
   "source": [
    "dict_params = {\n",
    "    'dt': 3000,\n",
    "    'nu': 1000,\n",
    "    'fs': 48000,\n",
    "    'step': 50,\n",
    "    'size': 960,\n",
    "}"
   ]
  },
  {
   "cell_type": "code",
   "execution_count": 7,
   "id": "3ec2e7f3",
   "metadata": {},
   "outputs": [
    {
     "name": "stderr",
     "output_type": "stream",
     "text": [
      "100%|██████████| 10/10 [00:01<00:00,  8.63it/s]\n"
     ]
    }
   ],
   "source": [
    "from morse_dataset.wav_morse import wav_save\n",
    "# dt - Число отсчётов. Время точки = dt / 48000\n",
    "dt = 3000\n",
    "# Частота\n",
    "nu = 1000\n",
    "# Частота дискретизации\n",
    "fs = 48000\n",
    "\n",
    "train_df = wav_save(\n",
    "    dt=dict_params['dt'],\n",
    "    nu=dict_params['nu'], \n",
    "    noise=True, \n",
    "    dataset_path='morse_dataset.csv',\n",
    "    fs=dict_params['fs']\n",
    ")"
   ]
  },
  {
   "cell_type": "code",
   "execution_count": 8,
   "id": "9f044623",
   "metadata": {},
   "outputs": [
    {
     "name": "stderr",
     "output_type": "stream",
     "text": [
      "100%|██████████| 10/10 [00:01<00:00,  7.53it/s]\n"
     ]
    }
   ],
   "source": [
    "from stft import fft_morse\n",
    "\n",
    "\n",
    "train_df['fft'] = train_df['signal'].progress_apply(\n",
    "    fft_morse,\n",
    "    step=dict_params['step'], \n",
    "    size=dict_params['size'],\n",
    "    nu=dict_params['nu']\n",
    "    )"
   ]
  },
  {
   "cell_type": "markdown",
   "id": "97c4ed68",
   "metadata": {},
   "source": [
    "Кодировка сообщения"
   ]
  },
  {
   "cell_type": "code",
   "execution_count": 9,
   "id": "cd2c6fd7",
   "metadata": {},
   "outputs": [],
   "source": [
    "from CTC_decoder import coding_char\n",
    "\n",
    "train_df['coding_message'] = train_df['message'].apply(coding_char)"
   ]
  },
  {
   "cell_type": "markdown",
   "id": "c863e1db",
   "metadata": {},
   "source": [
    "# Нейронная сеть"
   ]
  },
  {
   "cell_type": "markdown",
   "id": "09e14e62",
   "metadata": {},
   "source": [
    "Разбиение на выборки"
   ]
  },
  {
   "cell_type": "code",
   "execution_count": 10,
   "id": "f8f8f298",
   "metadata": {},
   "outputs": [],
   "source": [
    "X = train_df['fft']\n",
    "y = train_df['coding_message']\n",
    "\n",
    "\n",
    "X_train, X_val, y_train, y_val = train_test_split(\n",
    "    X, y,\n",
    "    test_size=0.2,\n",
    "    random_state=42,\n",
    "    shuffle=True\n",
    ")"
   ]
  },
  {
   "cell_type": "markdown",
   "id": "665f57c0",
   "metadata": {},
   "source": [
    "# Датасеты и даталодеры"
   ]
  },
  {
   "cell_type": "code",
   "execution_count": 11,
   "id": "868def6c",
   "metadata": {},
   "outputs": [],
   "source": [
    "class Band_Dataset(data.Dataset):\n",
    "    def __init__(self, X, y):\n",
    "        self.y = y\n",
    "        self.X = X\n",
    "\n",
    "    def __len__(self):\n",
    "        return len(self.y)\n",
    "\n",
    "    def __getitem__(self, idx):\n",
    "        band_signal = torch.tensor(self.X.iloc[idx])\n",
    "        target = torch.tensor(self.y.iloc[idx])\n",
    "        target_length = len(target)\n",
    "        input_length = band_signal.shape[0]\n",
    "        return band_signal, target, target_length, input_length"
   ]
  },
  {
   "cell_type": "code",
   "execution_count": 12,
   "id": "36a06d0a",
   "metadata": {},
   "outputs": [],
   "source": [
    "def collate_fn(batch):\n",
    "    signals, targets, target_lengths, input_lengths = zip(*batch)\n",
    "    targets_cat = torch.cat(targets)\n",
    "    signals_cat = torch.nn.utils.rnn.pad_sequence(signals, batch_first=True).float()\n",
    "\n",
    "    return {\n",
    "        'signals': signals_cat.unsqueeze(1),\n",
    "        'targets': targets_cat,\n",
    "        'input_lengths': torch.tensor(input_lengths),\n",
    "        'target_lengths': torch.tensor(target_lengths)\n",
    "    }"
   ]
  },
  {
   "cell_type": "markdown",
   "id": "a99a3d5f",
   "metadata": {},
   "source": [
    "# Проектирование нейронной сети"
   ]
  },
  {
   "cell_type": "code",
   "execution_count": 13,
   "id": "41b49edd",
   "metadata": {},
   "outputs": [],
   "source": [
    "class Morse_Decoder(nn.Module):\n",
    "    def __init__(self, num_char):\n",
    "        super(Morse_Decoder, self).__init__()\n",
    "        self.hidden_layer = nn.Sequential(\n",
    "            nn.Conv1d(1, 64, kernel_size=401, stride=15, padding=200),\n",
    "            nn.BatchNorm1d(64),\n",
    "            nn.Softplus(),\n",
    "            nn.Dropout(0.3),\n",
    "\n",
    "            nn.Conv1d(64, 64, kernel_size=21, stride=1, padding=10),\n",
    "            nn.BatchNorm1d(64),\n",
    "            nn.Softplus(),\n",
    "            nn.Dropout(0.5),\n",
    "\n",
    "            nn.Conv1d(64, 64, kernel_size=11, stride=1, padding=5),\n",
    "            nn.BatchNorm1d(64),\n",
    "            nn.Softplus(),\n",
    "            nn.Dropout(0.3),\n",
    "        )\n",
    "\n",
    "        self.lstm = nn.LSTM(\n",
    "            input_size=64,\n",
    "            hidden_size=64,\n",
    "            num_layers=2, \n",
    "            batch_first=True,\n",
    "            bidirectional=True,\n",
    "            dropout=0.2\n",
    "        )\n",
    "\n",
    "        self.output_layer = nn.Sequential(\n",
    "            nn.Linear(128, num_char),\n",
    "        )\n",
    "\n",
    "    def forward(self, inp):\n",
    "        # batch, channel, time\n",
    "        x = self.hidden_layer(inp)\n",
    "        # batch, time, channel\n",
    "        x = x.permute(0, 2, 1)\n",
    "\n",
    "        x, _ = self.lstm(x)\n",
    "        x = self.output_layer(x)\n",
    "\n",
    "        # time, batch, channel\n",
    "        x = x.permute(1, 0, 2)\n",
    "        return x"
   ]
  },
  {
   "cell_type": "markdown",
   "id": "d1414c24",
   "metadata": {},
   "source": [
    "# Настройка"
   ]
  },
  {
   "cell_type": "code",
   "execution_count": 14,
   "id": "8c50b56b",
   "metadata": {},
   "outputs": [],
   "source": [
    "with open('morse_dict.json', 'r') as file:\n",
    "    morse_code = json.load(file)\n",
    "model = Morse_Decoder(len(morse_code)+1)"
   ]
  },
  {
   "cell_type": "code",
   "execution_count": 15,
   "id": "85b0f0b2",
   "metadata": {},
   "outputs": [],
   "source": [
    "loss_func = nn.CTCLoss(blank=0)\n",
    "optimizer = optim.Adam(params=model.parameters(), lr=0.001)\n",
    "scheduler = optim.lr_scheduler.StepLR(optimizer, step_size=1, gamma=0.1)\n",
    "epochs = 100\n",
    "batch_size = 32"
   ]
  },
  {
   "cell_type": "code",
   "execution_count": 16,
   "id": "e0b2feeb",
   "metadata": {},
   "outputs": [],
   "source": [
    "train_dataset = Band_Dataset(X_train, y_train)\n",
    "train_loader = data.DataLoader(train_dataset,\n",
    "                               batch_size=batch_size,\n",
    "                               shuffle=True,\n",
    "                               collate_fn=collate_fn,\n",
    "                               )\n",
    "\n",
    "train_val_dataset = Band_Dataset(X_val, y_val)\n",
    "train_loader_val = data.DataLoader(train_val_dataset,\n",
    "                                   batch_size=batch_size,\n",
    "                                   shuffle=False,\n",
    "                                   collate_fn=collate_fn\n",
    "                                   )"
   ]
  },
  {
   "cell_type": "markdown",
   "id": "40c4e028",
   "metadata": {},
   "source": [
    "# Обучение"
   ]
  },
  {
   "cell_type": "code",
   "execution_count": 18,
   "id": "993ac91b",
   "metadata": {},
   "outputs": [
    {
     "name": "stderr",
     "output_type": "stream",
     "text": [
      "Epoch [1/100], loss_mean=234.111, last loss_val: 9999.000, lr=[0.001]: 100%|██████████| 1/1 [00:00<00:00,  1.45it/s]\n",
      "Epoch [2/100], loss_mean=232.204, last loss_val: 199.632, lr=[0.001]: 100%|██████████| 1/1 [00:00<00:00,  1.62it/s]\n",
      "Epoch [3/100], loss_mean=231.241, last loss_val: 188.219, lr=[0.001]: 100%|██████████| 1/1 [00:00<00:00,  1.59it/s]\n",
      "Epoch [4/100], loss_mean=230.412, last loss_val: 188.505, lr=[0.001]: 100%|██████████| 1/1 [00:00<00:00,  1.63it/s]\n",
      "Epoch [5/100], loss_mean=230.972, last loss_val: 188.464, lr=[0.001]: 100%|██████████| 1/1 [00:00<00:00,  1.64it/s]\n",
      "Epoch [6/100], loss_mean=227.874, last loss_val: 188.098, lr=[0.001]: 100%|██████████| 1/1 [00:00<00:00,  1.54it/s]\n",
      "Epoch [7/100], loss_mean=227.862, last loss_val: 187.904, lr=[0.001]: 100%|██████████| 1/1 [00:00<00:00,  1.50it/s]\n"
     ]
    },
    {
     "ename": "KeyboardInterrupt",
     "evalue": "",
     "output_type": "error",
     "traceback": [
      "\u001b[1;31m---------------------------------------------------------------------------\u001b[0m",
      "\u001b[1;31mKeyboardInterrupt\u001b[0m                         Traceback (most recent call last)",
      "Cell \u001b[1;32mIn[18], line 33\u001b[0m\n\u001b[0;32m     31\u001b[0m \u001b[38;5;28;01mwith\u001b[39;00m torch\u001b[38;5;241m.\u001b[39mno_grad():\n\u001b[0;32m     32\u001b[0m     batch_dict_val \u001b[38;5;241m=\u001b[39m {k: n\u001b[38;5;241m.\u001b[39mto(device) \u001b[38;5;28;01mfor\u001b[39;00m k,n \u001b[38;5;129;01min\u001b[39;00m batch_dict_val\u001b[38;5;241m.\u001b[39mitems()}\n\u001b[1;32m---> 33\u001b[0m     predict \u001b[38;5;241m=\u001b[39m \u001b[43mmodel\u001b[49m\u001b[43m(\u001b[49m\u001b[43mbatch_dict_val\u001b[49m\u001b[43m[\u001b[49m\u001b[38;5;124;43m'\u001b[39;49m\u001b[38;5;124;43msignals\u001b[39;49m\u001b[38;5;124;43m'\u001b[39;49m\u001b[43m]\u001b[49m\u001b[43m)\u001b[49m\n\u001b[0;32m     34\u001b[0m     predict \u001b[38;5;241m=\u001b[39m nn\u001b[38;5;241m.\u001b[39mfunctional\u001b[38;5;241m.\u001b[39mlog_softmax(predict, dim\u001b[38;5;241m=\u001b[39m\u001b[38;5;241m2\u001b[39m)\n\u001b[0;32m     35\u001b[0m     input_lengths \u001b[38;5;241m=\u001b[39m torch\u001b[38;5;241m.\u001b[39mfull((predict\u001b[38;5;241m.\u001b[39mshape[\u001b[38;5;241m1\u001b[39m], ), predict\u001b[38;5;241m.\u001b[39mshape[\u001b[38;5;241m0\u001b[39m])\n",
      "File \u001b[1;32m~\\AppData\\Local\\Packages\\PythonSoftwareFoundation.Python.3.12_qbz5n2kfra8p0\\LocalCache\\local-packages\\Python312\\site-packages\\torch\\nn\\modules\\module.py:1739\u001b[0m, in \u001b[0;36mModule._wrapped_call_impl\u001b[1;34m(self, *args, **kwargs)\u001b[0m\n\u001b[0;32m   1737\u001b[0m     \u001b[38;5;28;01mreturn\u001b[39;00m \u001b[38;5;28mself\u001b[39m\u001b[38;5;241m.\u001b[39m_compiled_call_impl(\u001b[38;5;241m*\u001b[39margs, \u001b[38;5;241m*\u001b[39m\u001b[38;5;241m*\u001b[39mkwargs)  \u001b[38;5;66;03m# type: ignore[misc]\u001b[39;00m\n\u001b[0;32m   1738\u001b[0m \u001b[38;5;28;01melse\u001b[39;00m:\n\u001b[1;32m-> 1739\u001b[0m     \u001b[38;5;28;01mreturn\u001b[39;00m \u001b[38;5;28;43mself\u001b[39;49m\u001b[38;5;241;43m.\u001b[39;49m\u001b[43m_call_impl\u001b[49m\u001b[43m(\u001b[49m\u001b[38;5;241;43m*\u001b[39;49m\u001b[43margs\u001b[49m\u001b[43m,\u001b[49m\u001b[43m \u001b[49m\u001b[38;5;241;43m*\u001b[39;49m\u001b[38;5;241;43m*\u001b[39;49m\u001b[43mkwargs\u001b[49m\u001b[43m)\u001b[49m\n",
      "File \u001b[1;32m~\\AppData\\Local\\Packages\\PythonSoftwareFoundation.Python.3.12_qbz5n2kfra8p0\\LocalCache\\local-packages\\Python312\\site-packages\\torch\\nn\\modules\\module.py:1750\u001b[0m, in \u001b[0;36mModule._call_impl\u001b[1;34m(self, *args, **kwargs)\u001b[0m\n\u001b[0;32m   1745\u001b[0m \u001b[38;5;66;03m# If we don't have any hooks, we want to skip the rest of the logic in\u001b[39;00m\n\u001b[0;32m   1746\u001b[0m \u001b[38;5;66;03m# this function, and just call forward.\u001b[39;00m\n\u001b[0;32m   1747\u001b[0m \u001b[38;5;28;01mif\u001b[39;00m \u001b[38;5;129;01mnot\u001b[39;00m (\u001b[38;5;28mself\u001b[39m\u001b[38;5;241m.\u001b[39m_backward_hooks \u001b[38;5;129;01mor\u001b[39;00m \u001b[38;5;28mself\u001b[39m\u001b[38;5;241m.\u001b[39m_backward_pre_hooks \u001b[38;5;129;01mor\u001b[39;00m \u001b[38;5;28mself\u001b[39m\u001b[38;5;241m.\u001b[39m_forward_hooks \u001b[38;5;129;01mor\u001b[39;00m \u001b[38;5;28mself\u001b[39m\u001b[38;5;241m.\u001b[39m_forward_pre_hooks\n\u001b[0;32m   1748\u001b[0m         \u001b[38;5;129;01mor\u001b[39;00m _global_backward_pre_hooks \u001b[38;5;129;01mor\u001b[39;00m _global_backward_hooks\n\u001b[0;32m   1749\u001b[0m         \u001b[38;5;129;01mor\u001b[39;00m _global_forward_hooks \u001b[38;5;129;01mor\u001b[39;00m _global_forward_pre_hooks):\n\u001b[1;32m-> 1750\u001b[0m     \u001b[38;5;28;01mreturn\u001b[39;00m \u001b[43mforward_call\u001b[49m\u001b[43m(\u001b[49m\u001b[38;5;241;43m*\u001b[39;49m\u001b[43margs\u001b[49m\u001b[43m,\u001b[49m\u001b[43m \u001b[49m\u001b[38;5;241;43m*\u001b[39;49m\u001b[38;5;241;43m*\u001b[39;49m\u001b[43mkwargs\u001b[49m\u001b[43m)\u001b[49m\n\u001b[0;32m   1752\u001b[0m result \u001b[38;5;241m=\u001b[39m \u001b[38;5;28;01mNone\u001b[39;00m\n\u001b[0;32m   1753\u001b[0m called_always_called_hooks \u001b[38;5;241m=\u001b[39m \u001b[38;5;28mset\u001b[39m()\n",
      "Cell \u001b[1;32mIn[13], line 40\u001b[0m, in \u001b[0;36mMorse_Decoder.forward\u001b[1;34m(self, inp)\u001b[0m\n\u001b[0;32m     37\u001b[0m \u001b[38;5;66;03m# batch, time, channel\u001b[39;00m\n\u001b[0;32m     38\u001b[0m x \u001b[38;5;241m=\u001b[39m x\u001b[38;5;241m.\u001b[39mpermute(\u001b[38;5;241m0\u001b[39m, \u001b[38;5;241m2\u001b[39m, \u001b[38;5;241m1\u001b[39m)\n\u001b[1;32m---> 40\u001b[0m x, _ \u001b[38;5;241m=\u001b[39m \u001b[38;5;28;43mself\u001b[39;49m\u001b[38;5;241;43m.\u001b[39;49m\u001b[43mlstm\u001b[49m\u001b[43m(\u001b[49m\u001b[43mx\u001b[49m\u001b[43m)\u001b[49m\n\u001b[0;32m     41\u001b[0m x \u001b[38;5;241m=\u001b[39m \u001b[38;5;28mself\u001b[39m\u001b[38;5;241m.\u001b[39moutput_layer(x)\n\u001b[0;32m     43\u001b[0m \u001b[38;5;66;03m# time, batch, channel\u001b[39;00m\n",
      "File \u001b[1;32m~\\AppData\\Local\\Packages\\PythonSoftwareFoundation.Python.3.12_qbz5n2kfra8p0\\LocalCache\\local-packages\\Python312\\site-packages\\torch\\nn\\modules\\module.py:1739\u001b[0m, in \u001b[0;36mModule._wrapped_call_impl\u001b[1;34m(self, *args, **kwargs)\u001b[0m\n\u001b[0;32m   1737\u001b[0m     \u001b[38;5;28;01mreturn\u001b[39;00m \u001b[38;5;28mself\u001b[39m\u001b[38;5;241m.\u001b[39m_compiled_call_impl(\u001b[38;5;241m*\u001b[39margs, \u001b[38;5;241m*\u001b[39m\u001b[38;5;241m*\u001b[39mkwargs)  \u001b[38;5;66;03m# type: ignore[misc]\u001b[39;00m\n\u001b[0;32m   1738\u001b[0m \u001b[38;5;28;01melse\u001b[39;00m:\n\u001b[1;32m-> 1739\u001b[0m     \u001b[38;5;28;01mreturn\u001b[39;00m \u001b[38;5;28;43mself\u001b[39;49m\u001b[38;5;241;43m.\u001b[39;49m\u001b[43m_call_impl\u001b[49m\u001b[43m(\u001b[49m\u001b[38;5;241;43m*\u001b[39;49m\u001b[43margs\u001b[49m\u001b[43m,\u001b[49m\u001b[43m \u001b[49m\u001b[38;5;241;43m*\u001b[39;49m\u001b[38;5;241;43m*\u001b[39;49m\u001b[43mkwargs\u001b[49m\u001b[43m)\u001b[49m\n",
      "File \u001b[1;32m~\\AppData\\Local\\Packages\\PythonSoftwareFoundation.Python.3.12_qbz5n2kfra8p0\\LocalCache\\local-packages\\Python312\\site-packages\\torch\\nn\\modules\\module.py:1750\u001b[0m, in \u001b[0;36mModule._call_impl\u001b[1;34m(self, *args, **kwargs)\u001b[0m\n\u001b[0;32m   1745\u001b[0m \u001b[38;5;66;03m# If we don't have any hooks, we want to skip the rest of the logic in\u001b[39;00m\n\u001b[0;32m   1746\u001b[0m \u001b[38;5;66;03m# this function, and just call forward.\u001b[39;00m\n\u001b[0;32m   1747\u001b[0m \u001b[38;5;28;01mif\u001b[39;00m \u001b[38;5;129;01mnot\u001b[39;00m (\u001b[38;5;28mself\u001b[39m\u001b[38;5;241m.\u001b[39m_backward_hooks \u001b[38;5;129;01mor\u001b[39;00m \u001b[38;5;28mself\u001b[39m\u001b[38;5;241m.\u001b[39m_backward_pre_hooks \u001b[38;5;129;01mor\u001b[39;00m \u001b[38;5;28mself\u001b[39m\u001b[38;5;241m.\u001b[39m_forward_hooks \u001b[38;5;129;01mor\u001b[39;00m \u001b[38;5;28mself\u001b[39m\u001b[38;5;241m.\u001b[39m_forward_pre_hooks\n\u001b[0;32m   1748\u001b[0m         \u001b[38;5;129;01mor\u001b[39;00m _global_backward_pre_hooks \u001b[38;5;129;01mor\u001b[39;00m _global_backward_hooks\n\u001b[0;32m   1749\u001b[0m         \u001b[38;5;129;01mor\u001b[39;00m _global_forward_hooks \u001b[38;5;129;01mor\u001b[39;00m _global_forward_pre_hooks):\n\u001b[1;32m-> 1750\u001b[0m     \u001b[38;5;28;01mreturn\u001b[39;00m \u001b[43mforward_call\u001b[49m\u001b[43m(\u001b[49m\u001b[38;5;241;43m*\u001b[39;49m\u001b[43margs\u001b[49m\u001b[43m,\u001b[49m\u001b[43m \u001b[49m\u001b[38;5;241;43m*\u001b[39;49m\u001b[38;5;241;43m*\u001b[39;49m\u001b[43mkwargs\u001b[49m\u001b[43m)\u001b[49m\n\u001b[0;32m   1752\u001b[0m result \u001b[38;5;241m=\u001b[39m \u001b[38;5;28;01mNone\u001b[39;00m\n\u001b[0;32m   1753\u001b[0m called_always_called_hooks \u001b[38;5;241m=\u001b[39m \u001b[38;5;28mset\u001b[39m()\n",
      "File \u001b[1;32m~\\AppData\\Local\\Packages\\PythonSoftwareFoundation.Python.3.12_qbz5n2kfra8p0\\LocalCache\\local-packages\\Python312\\site-packages\\torch\\nn\\modules\\rnn.py:1124\u001b[0m, in \u001b[0;36mLSTM.forward\u001b[1;34m(self, input, hx)\u001b[0m\n\u001b[0;32m   1121\u001b[0m         hx \u001b[38;5;241m=\u001b[39m \u001b[38;5;28mself\u001b[39m\u001b[38;5;241m.\u001b[39mpermute_hidden(hx, sorted_indices)\n\u001b[0;32m   1123\u001b[0m \u001b[38;5;28;01mif\u001b[39;00m batch_sizes \u001b[38;5;129;01mis\u001b[39;00m \u001b[38;5;28;01mNone\u001b[39;00m:\n\u001b[1;32m-> 1124\u001b[0m     result \u001b[38;5;241m=\u001b[39m \u001b[43m_VF\u001b[49m\u001b[38;5;241;43m.\u001b[39;49m\u001b[43mlstm\u001b[49m\u001b[43m(\u001b[49m\n\u001b[0;32m   1125\u001b[0m \u001b[43m        \u001b[49m\u001b[38;5;28;43minput\u001b[39;49m\u001b[43m,\u001b[49m\n\u001b[0;32m   1126\u001b[0m \u001b[43m        \u001b[49m\u001b[43mhx\u001b[49m\u001b[43m,\u001b[49m\n\u001b[0;32m   1127\u001b[0m \u001b[43m        \u001b[49m\u001b[38;5;28;43mself\u001b[39;49m\u001b[38;5;241;43m.\u001b[39;49m\u001b[43m_flat_weights\u001b[49m\u001b[43m,\u001b[49m\u001b[43m  \u001b[49m\u001b[38;5;66;43;03m# type: ignore[arg-type]\u001b[39;49;00m\n\u001b[0;32m   1128\u001b[0m \u001b[43m        \u001b[49m\u001b[38;5;28;43mself\u001b[39;49m\u001b[38;5;241;43m.\u001b[39;49m\u001b[43mbias\u001b[49m\u001b[43m,\u001b[49m\n\u001b[0;32m   1129\u001b[0m \u001b[43m        \u001b[49m\u001b[38;5;28;43mself\u001b[39;49m\u001b[38;5;241;43m.\u001b[39;49m\u001b[43mnum_layers\u001b[49m\u001b[43m,\u001b[49m\n\u001b[0;32m   1130\u001b[0m \u001b[43m        \u001b[49m\u001b[38;5;28;43mself\u001b[39;49m\u001b[38;5;241;43m.\u001b[39;49m\u001b[43mdropout\u001b[49m\u001b[43m,\u001b[49m\n\u001b[0;32m   1131\u001b[0m \u001b[43m        \u001b[49m\u001b[38;5;28;43mself\u001b[39;49m\u001b[38;5;241;43m.\u001b[39;49m\u001b[43mtraining\u001b[49m\u001b[43m,\u001b[49m\n\u001b[0;32m   1132\u001b[0m \u001b[43m        \u001b[49m\u001b[38;5;28;43mself\u001b[39;49m\u001b[38;5;241;43m.\u001b[39;49m\u001b[43mbidirectional\u001b[49m\u001b[43m,\u001b[49m\n\u001b[0;32m   1133\u001b[0m \u001b[43m        \u001b[49m\u001b[38;5;28;43mself\u001b[39;49m\u001b[38;5;241;43m.\u001b[39;49m\u001b[43mbatch_first\u001b[49m\u001b[43m,\u001b[49m\n\u001b[0;32m   1134\u001b[0m \u001b[43m    \u001b[49m\u001b[43m)\u001b[49m\n\u001b[0;32m   1135\u001b[0m \u001b[38;5;28;01melse\u001b[39;00m:\n\u001b[0;32m   1136\u001b[0m     result \u001b[38;5;241m=\u001b[39m _VF\u001b[38;5;241m.\u001b[39mlstm(\n\u001b[0;32m   1137\u001b[0m         \u001b[38;5;28minput\u001b[39m,\n\u001b[0;32m   1138\u001b[0m         batch_sizes,\n\u001b[1;32m   (...)\u001b[0m\n\u001b[0;32m   1145\u001b[0m         \u001b[38;5;28mself\u001b[39m\u001b[38;5;241m.\u001b[39mbidirectional,\n\u001b[0;32m   1146\u001b[0m     )\n",
      "\u001b[1;31mKeyboardInterrupt\u001b[0m: "
     ]
    }
   ],
   "source": [
    "Q_val = 9999\n",
    "best_loss = 9999\n",
    "model.to(device)\n",
    "\n",
    "for _e in range(epochs):\n",
    "    model.train()\n",
    "    loss_mean = 0\n",
    "    lm_count = 0\n",
    "    train_tqdm = tqdm(train_loader, leave=True)\n",
    "    for batch_dict in train_tqdm:\n",
    "        batch_dict = {k: n.to(device) for k, n in batch_dict.items()}\n",
    "        predict = model(batch_dict['signals'])\n",
    "        predict = nn.functional.log_softmax(predict, dim=2)\n",
    "        input_lengths = torch.full((predict.shape[1], ), predict.shape[0])\n",
    "        loss = loss_func(predict, batch_dict['targets'], input_lengths, batch_dict['target_lengths'])\n",
    "\n",
    "        assert not torch.isnan(loss).any()\n",
    "        optimizer.zero_grad()\n",
    "        loss.backward()\n",
    "        optimizer.step()\n",
    "\n",
    "        lm_count += 1\n",
    "        loss_mean = 1/lm_count * loss.item() + (1 - 1/lm_count) * loss_mean\n",
    "        train_tqdm.set_description(f\"Epoch [{_e+1}/{epochs}], loss_mean={loss_mean:.3f}, last loss_val: {Q_val:.3f}, lr={scheduler.get_last_lr()}\")\n",
    "\n",
    "    model.eval()\n",
    "    # Валидационная выборка\n",
    "    lm_count_val = 0\n",
    "    loss_mean_val = 0\n",
    "    for batch_dict_val in train_loader_val:\n",
    "        with torch.no_grad():\n",
    "            batch_dict_val = {k: n.to(device) for k,n in batch_dict_val.items()}\n",
    "            predict = model(batch_dict_val['signals'])\n",
    "            predict = nn.functional.log_softmax(predict, dim=2)\n",
    "            input_lengths = torch.full((predict.shape[1], ), predict.shape[0])\n",
    "            loss = loss_func(predict, batch_dict_val['targets'], input_lengths, batch_dict_val['target_lengths'])\n",
    "\n",
    "            lm_count_val += 1\n",
    "            loss_mean_val = 1/lm_count_val * loss.item() + (1 - 1/lm_count_val) * loss_mean_val\n",
    "    Q_val = loss_mean_val\n",
    "\n",
    "    # early stopping\n",
    "    if Q_val < best_loss:\n",
    "        best_loss = Q_val\n",
    "        torch.save(model.state_dict(), f'best_model.tar')\n",
    "        patience = 15\n",
    "    else:\n",
    "        patience -= 1\n",
    "        if patience == 0:\n",
    "            print(\"Stop! Loss val don't drop!\")\n",
    "            break"
   ]
  },
  {
   "cell_type": "code",
   "execution_count": 27,
   "id": "00620cdf",
   "metadata": {},
   "outputs": [
    {
     "data": {
      "text/plain": [
       "tensor([ 3,  3,  3,  3,  3,  3,  3,  3,  3,  3,  3,  3,  3,  3,  3,  3,  3,  3,\n",
       "         3,  3,  3,  3,  3,  3,  3,  3,  3,  3,  3,  3,  3,  3,  3,  3,  3,  3,\n",
       "         3,  3,  3,  3,  3,  3,  3,  3,  3,  3,  3,  3,  3,  3,  3,  3,  3,  3,\n",
       "         3,  3,  3,  3,  3,  3,  3,  3,  3,  3,  3,  3,  3,  3,  3,  3,  3,  3,\n",
       "         3,  3,  3,  3,  3,  3,  3,  3,  3,  3,  3,  3,  3,  3,  3,  3,  3,  3,\n",
       "         3,  3,  3,  3,  3,  3,  3,  3,  3,  3,  3,  3,  3,  3,  3,  3,  3,  3,\n",
       "         3,  3,  3,  3,  3,  3,  3,  3,  3,  3,  3,  3,  3,  3,  3,  3,  3,  3,\n",
       "         3,  3,  3,  3,  3,  3,  3,  3,  3,  3,  3,  3,  3,  3,  3,  3,  3,  3,\n",
       "         3,  3,  3,  3,  3,  3,  3,  3,  3,  3,  3,  3,  3,  3,  3,  3,  3,  3,\n",
       "         3,  3,  3,  3,  3,  3,  3,  3,  3,  3,  3,  3,  3,  3,  3,  3,  3,  3,\n",
       "         3,  3,  3,  3,  3,  3,  3,  3,  3,  3,  3,  3,  3,  3,  3,  3,  3,  3,\n",
       "         3,  3,  3,  3,  3,  3,  3,  3,  3,  3,  3,  3,  3,  3,  3,  3,  3,  3,\n",
       "         3,  3,  3,  3,  3,  3,  3,  3,  3,  3,  3,  3,  3,  3,  3,  3,  3,  3,\n",
       "         3,  3,  3,  3,  3,  3,  3,  3,  3,  3,  3,  3,  3,  3,  3,  3,  3,  3,\n",
       "         3,  3,  3, 48, 48, 48, 48, 48, 48, 48,  3,  3])"
      ]
     },
     "execution_count": 27,
     "metadata": {},
     "output_type": "execute_result"
    }
   ],
   "source": [
    "pred_indices"
   ]
  },
  {
   "cell_type": "code",
   "execution_count": 28,
   "id": "33409f4d",
   "metadata": {},
   "outputs": [
    {
     "name": "stdout",
     "output_type": "stream",
     "text": [
      "['В']\n"
     ]
    }
   ],
   "source": [
    "from morse_dataset.word_to_morse import morse_generator\n",
    "from CTC_decoder import CTC_decoder\n",
    "from stft import fft_morse\n",
    "from model_class import Morse_Decoder\n",
    "\n",
    "msg = 'привет'\n",
    "# dt - Число отсчётов. Время точки = dt / 48000\n",
    "dt = 3000\n",
    "# Частота\n",
    "nu = 1000\n",
    "# Частота дискретизации\n",
    "fs = 48000\n",
    "step = 50\n",
    "size = 960\n",
    "\n",
    "signal = morse_generator(msg, dt, nu, noise=True, dev=0.5)\n",
    "signal = np.float32(signal / np.max(np.abs(signal)))\n",
    "fft_transform = fft_morse(signal, step=step, size=size, nu=nu, fs=fs)\n",
    "signal_stft = torch.tensor(fft_transform, dtype=torch.float)\n",
    "\n",
    "model = Morse_Decoder(57)\n",
    "weights = torch.load('best_model.tar', weights_only=True)\n",
    "model.load_state_dict(weights)\n",
    "model.eval()\n",
    "\n",
    "with torch.no_grad():\n",
    "    predict = model(signal_stft.unsqueeze(0).unsqueeze(0))\n",
    "    predict = nn.functional.log_softmax(predict, dim=-1)\n",
    "    pred_indices = torch.argmax(predict, dim=-1)\n",
    "    pred_indices = pred_indices.permute(1, 0).squeeze(0)\n",
    "    main_answer = CTC_decoder(pred_indices)\n",
    "    \n",
    "print(main_answer)"
   ]
  },
  {
   "cell_type": "code",
   "execution_count": 5,
   "id": "210833d7",
   "metadata": {},
   "outputs": [
    {
     "name": "stdout",
     "output_type": "stream",
     "text": [
      "В\n"
     ]
    }
   ],
   "source": [
    "from  neural import morse_processing\n",
    "\n",
    "msg = 'Привет'\n",
    "print(*morse_processing(msg, dev=0.5))"
   ]
  }
 ],
 "metadata": {
  "kernelspec": {
   "display_name": "Python 3",
   "language": "python",
   "name": "python3"
  },
  "language_info": {
   "codemirror_mode": {
    "name": "ipython",
    "version": 3
   },
   "file_extension": ".py",
   "mimetype": "text/x-python",
   "name": "python",
   "nbconvert_exporter": "python",
   "pygments_lexer": "ipython3",
   "version": "3.12.10"
  }
 },
 "nbformat": 4,
 "nbformat_minor": 5
}
